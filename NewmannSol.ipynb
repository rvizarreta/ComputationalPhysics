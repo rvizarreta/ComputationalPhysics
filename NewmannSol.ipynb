{
 "cells": [
  {
   "cell_type": "code",
   "execution_count": 1,
   "metadata": {},
   "outputs": [
    {
     "name": "stdout",
     "output_type": "stream",
     "text": [
      "1575 particles were reflected out of 1000000\n"
     ]
    }
   ],
   "source": [
    "from math import sqrt,log,cos,sin,pi\n",
    "from random import random\n",
    "\n",
    "# Constants\n",
    "Z = 79\n",
    "e = 1.602e-19\n",
    "E = 7.7e6*e\n",
    "epsilon0 = 8.854e-12\n",
    "a0 = 5.292e-11\n",
    "sigma = a0/100\n",
    "N = 1000000\n",
    "\n",
    "# Function to generate two Gaussian random numbers\n",
    "def gaussian():\n",
    "    r = sqrt(-2*sigma*sigma*log(1-random()))\n",
    "    theta = 2*pi*random()\n",
    "    x = r*cos(theta)\n",
    "    y = r*sin(theta)\n",
    "    return x,y\n",
    "\n",
    "# Main program\n",
    "count = 0\n",
    "for i in range(N):\n",
    "    x,y = gaussian()\n",
    "    b = sqrt(x*x+y*y)\n",
    "    if b<Z*e*e/(2*pi*epsilon0*E):\n",
    "        count += 1\n",
    "\n",
    "print(count,\"particles were reflected out of\",N)"
   ]
  },
  {
   "cell_type": "code",
   "execution_count": null,
   "metadata": {},
   "outputs": [],
   "source": []
  }
 ],
 "metadata": {
  "kernelspec": {
   "display_name": "Python 3",
   "language": "python",
   "name": "python3"
  },
  "language_info": {
   "codemirror_mode": {
    "name": "ipython",
    "version": 3
   },
   "file_extension": ".py",
   "mimetype": "text/x-python",
   "name": "python",
   "nbconvert_exporter": "python",
   "pygments_lexer": "ipython3",
   "version": "3.8.5"
  }
 },
 "nbformat": 4,
 "nbformat_minor": 4
}
