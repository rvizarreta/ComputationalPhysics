{
 "cells": [
  {
   "cell_type": "code",
   "execution_count": 2,
   "metadata": {},
   "outputs": [],
   "source": [
    "import numpy as np"
   ]
  },
  {
   "cell_type": "code",
   "execution_count": 4,
   "metadata": {},
   "outputs": [],
   "source": [
    "# DEFINING A FUNCTION THAT RETURNS THE LAST DISTANCE BETWEEN TWO PARTICLES\n",
    "def distance(particle1, particle2):\n",
    "    pos1 = particle1.getPositions()[-1]\n",
    "    pos2 = particle2.getPositions()[-1] \n",
    "    return np.sqrt((pos1[0]-pos2[0])**2 + (pos1[1]-pos2[1])**2)"
   ]
  },
  {
   "cell_type": "code",
   "execution_count": 7,
   "metadata": {},
   "outputs": [],
   "source": [
    "# DEFINING A FUNCTION THAT RETURNS THE IMPACT PARAMETER b IN METERS FROM THE RANGE a,b\n",
    "b = lambda a,b : np.random.rand()*(b-a)"
   ]
  },
  {
   "cell_type": "code",
   "execution_count": 10,
   "metadata": {},
   "outputs": [],
   "source": [
    "# DEFINING A FUNCTION THAT RETURNS THE KINETIC ENERGY OF THE PARTICLE AT A DISTANCE r FROM THE TARGET\n",
    "def KineticEnergy(particle, targetCharge, r):\n",
    "    E = particle.getEnergy()\n",
    "    l = particle.getAngularMomentum()\n",
    "    m = particle.getMass()\n",
    "    q = particle.getCharge()\n",
    "    return E - (l**2)/(2*m*r**2) - q*targetCharge/r"
   ]
  },
  {
   "cell_type": "code",
   "execution_count": 11,
   "metadata": {},
   "outputs": [],
   "source": [
    "# DEFINING A FUNCTION FOR THE SCATTERING ANGLE theta ODE d(theta)/dt\n",
    "f_theta = lambda l, m, r : l/(mr**2)"
   ]
  },
  {
   "cell_type": "code",
   "execution_count": 13,
   "metadata": {},
   "outputs": [],
   "source": [
    "# DEFINING A FUNCTION FOR THE POSITION r OF THE PARTICLE WITH RESPECT TO THE TARGET ODE dr/dt\n",
    "f_r = lambda energy, m : np.sqrt((2/m)*energy)"
   ]
  },
  {
   "cell_type": "code",
   "execution_count": 15,
   "metadata": {},
   "outputs": [],
   "source": [
    "# DEFINING THE 4TH ORDER RUNGE-KUTTA METHOD\n",
    "def function(data,l,m,r,energy):\n",
    "    theta, r = data[0], data[1]\n",
    "    return np.array(f_theta(l,m,r), f_r(energy,m))"
   ]
  },
  {
   "cell_type": "code",
   "execution_count": 16,
   "metadata": {},
   "outputs": [],
   "source": [
    "# DEFINING A FUNCTION THAT CALCULATES x(t+h) USING RUNGE-KUTTA 4rd ORDER METHOD\n",
    "def rk4(data,l,m,r,energy,h):\n",
    "    k1 = h*function(data,l,m,r,energy) \n",
    "    k2 = h*function(data+0.5*k1,x+0.5*h,l,m,r,energy)\n",
    "    k3 = h*function(data+0.5*k2,x+0.5*h,l,m,r,energy)\n",
    "    k4 = h*function(data+k3,x+h,l,m,r,energy)\n",
    "    data += (1/6)*(k1+2*k2+2*k3+k4)\n",
    "    return data"
   ]
  },
  {
   "cell_type": "code",
   "execution_count": 18,
   "metadata": {},
   "outputs": [],
   "source": [
    "# DEFINING A FUNCTION THAT TRANSFORM THE DISTANCE OF THE PARTICLE FROM THE TARGET IN x,y COORDINATES\n",
    "def position(r, angle):\n",
    "    x,y = r*np.cos(angle), r*np.sin(angle)\n",
    "    return np.array([x,y])"
   ]
  },
  {
   "cell_type": "code",
   "execution_count": null,
   "metadata": {},
   "outputs": [],
   "source": []
  }
 ],
 "metadata": {
  "kernelspec": {
   "display_name": "Python 3",
   "language": "python",
   "name": "python3"
  },
  "language_info": {
   "codemirror_mode": {
    "name": "ipython",
    "version": 3
   },
   "file_extension": ".py",
   "mimetype": "text/x-python",
   "name": "python",
   "nbconvert_exporter": "python",
   "pygments_lexer": "ipython3",
   "version": "3.8.5"
  }
 },
 "nbformat": 4,
 "nbformat_minor": 4
}
