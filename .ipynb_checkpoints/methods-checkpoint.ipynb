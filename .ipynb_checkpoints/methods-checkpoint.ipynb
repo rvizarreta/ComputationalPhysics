{
 "cells": [
  {
   "cell_type": "code",
   "execution_count": 2,
   "metadata": {},
   "outputs": [],
   "source": [
    "import numpy as np"
   ]
  },
  {
   "cell_type": "code",
   "execution_count": 4,
   "metadata": {},
   "outputs": [],
   "source": [
    "# DEFINING A FUNCTION THAT RETURNS THE DISTANCE BETWEEN TWO PARTICLES\n",
    "def distance(particle1, particle2):\n",
    "    pos1 = particle1.getPositions()[-1]\n",
    "    pos2 = particle2.getPositions()[-1] \n",
    "    return np.sqrt((pos1[0]-pos2[0])**2 + (pos1[1]-pos2[1])**2)"
   ]
  },
  {
   "cell_type": "code",
   "execution_count": 7,
   "metadata": {},
   "outputs": [],
   "source": [
    "# DEFINING A FUNCTION THAT RETURNS THE IMPACT PARAMETER b IN METERS FROM THE RANGE a,b\n",
    "b = lambda a,b : np.random.rand()*(b-a)"
   ]
  },
  {
   "cell_type": "code",
   "execution_count": 10,
   "metadata": {},
   "outputs": [],
   "source": [
    "# DEFINING A FUNCTION THAT RETURNS THE KINETIC ENERGY OF THE PARTICLE AT A DISTANCE r FROM THE TARGET\n",
    "def KineticEnergy(particle, targetCharge, r):\n",
    "    E = particle.getEnergy()\n",
    "    l = particle.getAngularMomentum()\n",
    "    m = particle.getMass()\n",
    "    q = particle.getCharge()\n",
    "    return E - (l**2)/(2*m*r**2) - q*targetCharge/r"
   ]
  },
  {
   "cell_type": "code",
   "execution_count": null,
   "metadata": {},
   "outputs": [],
   "source": [
    "# DEFINING THE 4TH ORDER RUNGE-KUTTA METHOD\n"
   ]
  }
 ],
 "metadata": {
  "kernelspec": {
   "display_name": "Python 3",
   "language": "python",
   "name": "python3"
  },
  "language_info": {
   "codemirror_mode": {
    "name": "ipython",
    "version": 3
   },
   "file_extension": ".py",
   "mimetype": "text/x-python",
   "name": "python",
   "nbconvert_exporter": "python",
   "pygments_lexer": "ipython3",
   "version": "3.8.5"
  }
 },
 "nbformat": 4,
 "nbformat_minor": 4
}
