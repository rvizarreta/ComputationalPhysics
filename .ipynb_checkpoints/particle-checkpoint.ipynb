{
 "cells": [
  {
   "cell_type": "code",
   "execution_count": 13,
   "metadata": {},
   "outputs": [],
   "source": [
    "import numpy as np\n",
    "from scipy.constants import e\n",
    "\n",
    "class Particle:\n",
    "    \n",
    "    # DEFINING THE CONSTRUCTOR OF THE PARTICLE\n",
    "    def __init__(self, mass, charge, position, energy, impactParameter):\n",
    "        positions = []\n",
    "        self.mass = mass #in Kg\n",
    "        self.charge = charge #in Coulomb\n",
    "        self.positions = positions.append(position)\n",
    "        self.energy = energy*e #Changing from eV to Joules\n",
    "        self.b = impactParameter # in meters\n",
    "        \n",
    "    # DEFINING get METHODS FOR THE INTRINSICAL ATTRIBUTES OF THE PARTICLE\n",
    "    def getPositions(self):\n",
    "        return self.positions\n",
    "    \n",
    "    def getMass(self):\n",
    "        return self.mass\n",
    "    \n",
    "    def getCharge(self):\n",
    "        return self.charge\n",
    "    \n",
    "    def getEnergy(self):\n",
    "        return self.energy\n",
    "    \n",
    "    def getScatteringAngle(self):\n",
    "        return self.scatteringAngle\n",
    "\n",
    "    def getImpactParameter(self):\n",
    "        return self.b\n",
    "    \n",
    "    # DEFINING A METHOT THAT SETS THE SCATTERING ANGLE\n",
    "    def saveScatteringAngle(self, angle):\n",
    "        self.scatteringAngle = angle\n",
    "    \n",
    "    # DEFINING A METHOD THAT SAVES THE POSITION OF THE PARTICLE\n",
    "    def savePosition(self, position):\n",
    "        self.positions = positions.append(position)\n",
    "        \n",
    "    # DEFINING A METHOD THAT RETURNS THE ANGULAR MOMENTUM RECEIVING THE IMPACT PARAMETER b\n",
    "    def getAngularMomentum(self): \n",
    "        return np.sqrt(2*self.mass*self.energy)*self.b"
   ]
  },
  {
   "cell_type": "code",
   "execution_count": null,
   "metadata": {},
   "outputs": [],
   "source": []
  }
 ],
 "metadata": {
  "kernelspec": {
   "display_name": "Python 3",
   "language": "python",
   "name": "python3"
  },
  "language_info": {
   "codemirror_mode": {
    "name": "ipython",
    "version": 3
   },
   "file_extension": ".py",
   "mimetype": "text/x-python",
   "name": "python",
   "nbconvert_exporter": "python",
   "pygments_lexer": "ipython3",
   "version": "3.8.5"
  }
 },
 "nbformat": 4,
 "nbformat_minor": 4
}
