{
 "cells": [
  {
   "cell_type": "code",
   "execution_count": 1,
   "metadata": {},
   "outputs": [],
   "source": [
    "# DECLARING REQUIRED PACKAGES\n",
    "import matplotlib.pyplot as plt"
   ]
  },
  {
   "cell_type": "code",
   "execution_count": 2,
   "metadata": {},
   "outputs": [],
   "source": [
    "def xyPlot(positions,target_pos):\n",
    "    plt.scatter(positions[:,0], positions[:,1], s=10, c='b', marker=\"o\")\n",
    "    plt.scatter(target_pos[:,0], target_pos[:,1], s=20, c='r', marker=\"o\")\n",
    "    plt.xlabel(\"X\")\n",
    "    plt.ylabel(\"Y\")\n",
    "    plt.title('Rutherford Scattering 2D representation')\n",
    "    plt.show()"
   ]
  },
  {
   "cell_type": "code",
   "execution_count": null,
   "metadata": {},
   "outputs": [],
   "source": [
    "def rThetaPlot(positions,target_pos):\n",
    "    plt.scatter(positions[:,0], positions[:,1], s=10, c='b', marker=\"o\")\n",
    "    plt.scatter(target_pos[:,0], target_pos[:,1], s=20, c='r', marker=\"o\")\n",
    "    plt.xlabel(\"Theta\")\n",
    "    plt.ylabel(\"Radius\")\n",
    "    plt.title('Theta vs Radius')\n",
    "    plt.show()"
   ]
  }
 ],
 "metadata": {
  "kernelspec": {
   "display_name": "Python 3",
   "language": "python",
   "name": "python3"
  },
  "language_info": {
   "codemirror_mode": {
    "name": "ipython",
    "version": 3
   },
   "file_extension": ".py",
   "mimetype": "text/x-python",
   "name": "python",
   "nbconvert_exporter": "python",
   "pygments_lexer": "ipython3",
   "version": "3.8.5"
  }
 },
 "nbformat": 4,
 "nbformat_minor": 4
}
