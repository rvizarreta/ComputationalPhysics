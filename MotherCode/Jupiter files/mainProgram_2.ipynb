{
 "cells": [
  {
   "cell_type": "code",
   "execution_count": 11,
   "metadata": {},
   "outputs": [],
   "source": [
    "# DECLARING REQUIRED PACKAGES\n",
    "import numpy as np\n",
    "import math\n",
    "from scipy.constants import e, m_p\n",
    "\n",
    "# DELCARING THE CLASS Particle\n",
    "from particle import Particle\n",
    "\n",
    "# DECLARING OUR methods FILE\n",
    "import methods\n",
    "\n",
    "# DECLARING OUR 2D-Plotter FILE\n",
    "import plotter"
   ]
  },
  {
   "cell_type": "code",
   "execution_count": 12,
   "metadata": {},
   "outputs": [],
   "source": [
    "#============ FIXED ENERGY OF 200 eV: 2D ANIMATION =============="
   ]
  },
  {
   "cell_type": "code",
   "execution_count": 13,
   "metadata": {},
   "outputs": [],
   "source": [
    "# DECLARING AN ARRAY TO STORAGE OUR PARTICLES\n",
    "particles = []\n",
    "n = 5 #Number of test particles / 2\n",
    "\n",
    "# ALPHA PARTICLE INFORMATION\n",
    "m = 2*m_p\n",
    "q = 2*e\n",
    "E = 200 #eV\n",
    "\n",
    "# RANGE OF POSITIONS FOR THE IMPACT PARAMETER b\n",
    "y0 = 50e-4\n",
    "y1 = 100e-4\n",
    "\n",
    "# INITIAL HORIZONTAL DISTANCE TO THE PARTICLES AND THE TARGET\n",
    "d = -0.02 #meters"
   ]
  },
  {
   "cell_type": "code",
   "execution_count": 14,
   "metadata": {},
   "outputs": [],
   "source": [
    "# INSTANCING OUR 10 PARTICLES\n",
    "for i in range(n):\n",
    "    b1 = methods.b(y0,y1)\n",
    "    b2 = - b1\n",
    "    particles.append(Particle(m,q,[d,b1],E,b1))\n",
    "    particles.append(Particle(m,q,[d,b2],E,b2))"
   ]
  },
  {
   "cell_type": "code",
   "execution_count": 15,
   "metadata": {},
   "outputs": [],
   "source": [
    "# INSTANCING THE TARGET GOLD NUCLEUS AT THE ORIGIN\n",
    "target = Particle(79*m_p,79*e,[0,0],0,0)"
   ]
  },
  {
   "cell_type": "code",
   "execution_count": 16,
   "metadata": {},
   "outputs": [],
   "source": [
    "# DEFINING INITIAL PARAMETERS FOR RK4\n",
    "t1, t2, steps = 0, 0.00000018, 10000\n",
    "h = abs(t2-t1)/steps"
   ]
  },
  {
   "cell_type": "code",
   "execution_count": 17,
   "metadata": {},
   "outputs": [],
   "source": [
    "# MOVING THE PARTICLES USING RK4 METHOD\n",
    "particles = methods.rutherford(particles, target,t1,t2,h)"
   ]
  },
  {
   "cell_type": "code",
   "execution_count": 18,
   "metadata": {},
   "outputs": [
    {
     "data": {
      "image/png": "[encoded data removed]",
      "text/plain": [
       "<Figure size 432x288 with 1 Axes>"
      ]
     },
     "metadata": {},
     "output_type": "display_data"
    },
    {
     "data": {
      "text/plain": [
       "<Figure size 432x288 with 0 Axes>"
      ]
     },
     "metadata": {},
     "output_type": "display_data"
    }
   ],
   "source": [
    "# GENERATING THE ANIMATION\n",
    "plotter.animation(particles, target, steps)"
   ]
  },
  {
   "cell_type": "code",
   "execution_count": null,
   "metadata": {},
   "outputs": [],
   "source": []
  }
 ],
 "metadata": {
  "kernelspec": {
   "display_name": "Python 3",
   "language": "python",
   "name": "python3"
  },
  "language_info": {
   "codemirror_mode": {
    "name": "ipython",
    "version": 3
   },
   "file_extension": ".py",
   "mimetype": "text/x-python",
   "name": "python",
   "nbconvert_exporter": "python",
   "pygments_lexer": "ipython3",
   "version": "3.8.5"
  }
 },
 "nbformat": 4,
 "nbformat_minor": 4
}
